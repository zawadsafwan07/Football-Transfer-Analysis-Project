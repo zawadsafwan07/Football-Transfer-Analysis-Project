{
 "cells": [
  {
   "cell_type": "markdown",
   "id": "09a44a99",
   "metadata": {},
   "source": [
    "Read the Excel and export edge list\n"
   ]
  },
  {
   "cell_type": "code",
   "execution_count": null,
   "id": "ba08b686",
   "metadata": {},
   "outputs": [
    {
     "name": "stdout",
     "output_type": "stream",
     "text": [
      "Number of nodes:  3139\n",
      "Number of edges:  36392\n",
      "\n",
      "Average degree:  23.187002230009558\n",
      "Average degree (alternate calculation) 23.187002230009558\n",
      "\n",
      "Minimum degree:  1\n",
      "Maximum degree:  532\n"
     ]
    }
   ],
   "source": [
    "import pandas as pd\n",
    "import networkx as nx\n",
    "import numpy as np\n",
    "\n",
    "# Load data\n",
    "df = pd.read_excel(\"Transfer-Players-Clubs.xlsx\")\n",
    "\n",
    "# Create a directed graph \n",
    "G = nx.MultiDiGraph()\n",
    "\n",
    "# Add nodes from 'from' and 'to' club columns\n",
    "for _, row in df.iterrows():\n",
    "    G.add_node(row['from_club_id'], club_id=row['from_club_id'], club_name=row['from_club_name'])\n",
    "    G.add_node(row['to_club_id'], club_id=row['to_club_id'], club_name=row['to_club_name'])\n",
    "\n",
    "# Add edges \n",
    "for _, row in df.iterrows():\n",
    "    G.add_edge(row['from_club_id'], row['to_club_id'], player_name=row['player_name'], transfer_fee=row['transfer_fee'])\n",
    "\n",
    "# Export edge list \n",
    "with open('football_transfers_edge_list.txt', 'w') as f:\n",
    "    for u, v, data in G.edges(data=True):\n",
    "        f.write(f\"{u} {v}\\n\")\n",
    "\n",
    "# Number of nodes and edges\n",
    "N = len(G)  # Number of nodes\n",
    "L = G.size()  # Number of edges (accounting for multi-edges)\n",
    "\n",
    "# Calculate degree information\n",
    "degrees = [G.degree(node) for node in G]  # Get degree of each node\n",
    "in_degrees = [G.in_degree(node) for node in G]  # Get in-degree of each node\n",
    "out_degrees = [G.out_degree(node) for node in G]  # Get out-degree of each node\n",
    "\n",
    "# Find min and max degrees\n",
    "kmin = min(degrees)\n",
    "kmax = max(degrees)\n",
    "\n",
    "# Calculate the average degree\n",
    "avg_degree = 2 * L / N \n",
    "avg_degree_alt = np.mean(degrees)  \n",
    "\n",
    "# Print results\n",
    "print(\"Number of nodes: \", N)\n",
    "print(\"Number of edges: \", L)\n",
    "print()\n",
    "print(\"Average degree: \", avg_degree)\n",
    "print(\"Average degree (alternate calculation)\", avg_degree_alt)\n",
    "print()\n",
    "print(\"Minimum degree: \", kmin)\n",
    "print(\"Maximum degree: \", kmax)\n"
   ]
  },
  {
   "cell_type": "markdown",
   "id": "e45a6f2d",
   "metadata": {},
   "source": [
    "Read the Edge List\n",
    "\n"
   ]
  },
  {
   "cell_type": "code",
   "execution_count": 51,
   "id": "cdaf38b6",
   "metadata": {},
   "outputs": [],
   "source": [
    "import numpy as np\n",
    "import networkx as nx\n",
    "import matplotlib.pyplot as plt\n",
    "import matplotlib as mpl\n",
    "%matplotlib inline\n",
    "\n",
    "# Read in an edge list from the file 'football_transfers_edge_list.txt'\n",
    "G = nx.read_edgelist('football_transfers_edge_list.txt', comments='#',\n",
    "                     create_using=nx.MultiDiGraph(),  # Use MultiDiGraph for multiple edges between nodes\n",
    "                     delimiter=' ', \n",
    "                     nodetype=int, \n",
    "                     encoding='utf-8')\n",
    "\n"
   ]
  },
  {
   "cell_type": "markdown",
   "id": "0f0808be",
   "metadata": {},
   "source": [
    "Create a Graph File"
   ]
  },
  {
   "cell_type": "code",
   "execution_count": 47,
   "id": "cda251c7",
   "metadata": {},
   "outputs": [],
   "source": [
    "import pandas as pd\n",
    "import networkx as nx\n",
    "\n",
    "# Load data\n",
    "df = pd.read_excel(\"Transfer-Players-Clubs.xlsx\")\n",
    "\n",
    "# Create a directed graph that allows multi-edges (multiple transfers)\n",
    "G = nx.MultiDiGraph()\n",
    "\n",
    "# Add nodes from 'from' and 'to' club columns with attributes\n",
    "for _, row in df.iterrows():\n",
    "    G.add_node(row['from_club_id'], club_id=row['from_club_id'], club_name=row['from_club_name'])\n",
    "    G.add_node(row['to_club_id'], club_id=row['to_club_id'], club_name=row['to_club_name'])\n",
    "\n",
    "# Add edges with attributes (allowing multiple transfers between the same clubs)\n",
    "for _, row in df.iterrows():\n",
    "    G.add_edge(\n",
    "        row['from_club_id'],\n",
    "        row['to_club_id'],\n",
    "        player_name=row['player_name'],\n",
    "        transfer_fee=row['transfer_fee']\n",
    "    )\n",
    "\n",
    "# Export to GEXF for Gephi\n",
    "nx.write_gexf(G, \"football_transfers_network.gexf\")\n"
   ]
  },
  {
   "cell_type": "code",
   "execution_count": 52,
   "id": "65cd47a0",
   "metadata": {},
   "outputs": [
    {
     "name": "stdout",
     "output_type": "stream",
     "text": [
      "Number of nodes:  3139\n",
      "Number of edges:  36392\n",
      "\n",
      "Average degree:  23.187002230009558\n",
      "Average degree (alternate calculation) 23.187002230009558\n",
      "\n",
      "Minimum degree:  1\n",
      "Maximum degree:  532\n"
     ]
    }
   ],
   "source": [
    "N = len(G)\n",
    "L = G.size()\n",
    "degrees = [G.degree(node) for node in G]\n",
    "kmin = min(degrees)\n",
    "kmax = max(degrees)\n",
    "print(\"Number of nodes: \", N)\n",
    "print(\"Number of edges: \", L)\n",
    "print()\n",
    "print(\"Average degree: \", 2*L/N)\n",
    "print(\"Average degree (alternate calculation)\", np.mean(degrees))\n",
    "print()\n",
    "print(\"Minimum degree: \", kmin)\n",
    "print(\"Maximum degree: \", kmax)"
   ]
  },
  {
   "cell_type": "code",
   "execution_count": 53,
   "id": "1d7c86f3",
   "metadata": {},
   "outputs": [],
   "source": [
    "import pandas as pd\n",
    "import networkx as nx\n",
    "\n",
    "# Load your data and create the graph as before\n",
    "df = pd.read_excel(\"Transfer-Players-Clubs.xlsx\")\n",
    "\n",
    "# Create a directed multigraph to allow multiple edges between the same clubs\n",
    "G = nx.MultiDiGraph()\n",
    "\n",
    "# Add nodes and edges\n",
    "for _, row in df.iterrows():\n",
    "    G.add_edge(row['from_club_id'], row['to_club_id'], player_name=row['player_name'], transfer_fee=row['transfer_fee'])\n",
    "\n",
    "# Calculate in-degree and out-degree for each node (club)\n",
    "in_degree = dict(G.in_degree())\n",
    "out_degree = dict(G.out_degree())\n",
    "\n",
    "# Create a new attribute to categorize nodes\n",
    "degree_category = {}\n",
    "for node in G.nodes():\n",
    "    in_deg = in_degree.get(node, 0)\n",
    "    out_deg = out_degree.get(node, 0)\n",
    "    if in_deg > 0 and out_deg == 0:\n",
    "        degree_category[node] = \"Only In-Degree\"\n",
    "    elif in_deg == 0 and out_deg > 0:\n",
    "        degree_category[node] = \"Only Out-Degree\"\n",
    "    elif in_deg > 0 and out_deg > 0:\n",
    "        degree_category[node] = \"Both\"\n",
    "    else:\n",
    "        degree_category[node] = \"None\"\n",
    "\n",
    "# Add the category to the graph nodes as an attribute\n",
    "nx.set_node_attributes(G, degree_category, 'degree_category')\n",
    "\n",
    "# Export the graph with the new degree_category column to Gephi (as GEXF or CSV)\n",
    "nx.write_gexf(G, \"football_transfer_network_with_categories.gexf\")\n"
   ]
  },
  {
   "cell_type": "markdown",
   "id": "f695e866",
   "metadata": {},
   "source": [
    "Plotting the degree distribution"
   ]
  },
  {
   "cell_type": "code",
   "execution_count": 54,
   "id": "53649faf",
   "metadata": {},
   "outputs": [
    {
     "data": {
      "image/png": "[encoded data removed]",
      "text/plain": [
       "<Figure size 600x400 with 1 Axes>"
      ]
     },
     "metadata": {},
     "output_type": "display_data"
    }
   ],
   "source": [
    "# Get 10 logarithmically spaced bins between kmin and kmax\n",
    "bin_edges = np.logspace(np.log10(kmin), np.log10(kmax), num=10)\n",
    "\n",
    "# histogram the data into these bins\n",
    "density, _ = np.histogram(degrees, bins=bin_edges, density=True)\n",
    "fig = plt.figure(figsize=(6,4))\n",
    "\n",
    "# \"x\" should be midpoint (IN LOG SPACE) of each bin\n",
    "log_be = np.log10(bin_edges)\n",
    "x = 10**((log_be[1:] + log_be[:-1])/2)\n",
    "\n",
    "plt.loglog(x, density, marker='o', linestyle='none')\n",
    "plt.xlabel(r\"degree $k$\", fontsize=16)\n",
    "plt.ylabel(r\"$P(k)$\", fontsize=16)\n",
    "\n",
    "# remove right and top boundaries because they're ugly\n",
    "ax = plt.gca()\n",
    "ax.spines['right'].set_visible(False)\n",
    "ax.spines['top'].set_visible(False)\n",
    "ax.yaxis.set_ticks_position('left')\n",
    "ax.xaxis.set_ticks_position('bottom')\n",
    "\n",
    "# Show the plot\n",
    "plt.show()"
   ]
  },
  {
   "cell_type": "code",
   "execution_count": 56,
   "id": "c6b95f57",
   "metadata": {},
   "outputs": [
    {
     "name": "stdout",
     "output_type": "stream",
     "text": [
      "Number of nodes: 3139\n",
      "Number of edges: 36392\n",
      "Number of strongly connected components: 2705\n",
      "Graph is not strongly connected, average path length cannot be calculated.\n"
     ]
    }
   ],
   "source": [
    "import networkx as nx\n",
    "\n",
    "# Read the graph from the edge list\n",
    "G = nx.read_edgelist('football_transfers_edge_list.txt', comments='#',\n",
    "                     create_using=nx.MultiDiGraph(),  # Use MultiDiGraph for multiple edges\n",
    "                     delimiter=' ', \n",
    "                     nodetype=int, \n",
    "                     encoding='utf-8')\n",
    "\n",
    "# Number of nodes\n",
    "num_nodes = G.number_of_nodes()\n",
    "print(f\"Number of nodes: {num_nodes}\")\n",
    "\n",
    "# Number of edges\n",
    "num_edges = G.number_of_edges()\n",
    "print(f\"Number of edges: {num_edges}\")\n",
    "\n",
    "# Number of connected components (strongly connected components)\n",
    "num_components = nx.number_strongly_connected_components(G)\n",
    "print(f\"Number of strongly connected components: {num_components}\")\n",
    "\n",
    "\n",
    "\n",
    "# Average Path Length (only for strongly connected components)\n",
    "# Ensure that the graph is strongly connected\n",
    "if nx.is_strongly_connected(G):\n",
    "    avg_path_length = nx.average_shortest_path_length(G)\n",
    "    print(f\"Average path length: {avg_path_length}\")\n",
    "else:\n",
    "    print(\"Graph is not strongly connected, average path length cannot be calculated.\")\n",
    "\n"
   ]
  },
  {
   "cell_type": "markdown",
   "id": "93844c69",
   "metadata": {},
   "source": [
    "Null-Model\n"
   ]
  },
  {
   "cell_type": "code",
   "execution_count": 10,
   "id": "b452f3d6",
   "metadata": {},
   "outputs": [
    {
     "name": "stdout",
     "output_type": "stream",
     "text": [
      "Number of nodes: 3139\n",
      "Number of edges: 36392\n"
     ]
    }
   ],
   "source": [
    "import networkx as nx\n",
    "\n",
    "# Read in the football transfer network (unweighted, directed)\n",
    "G = nx.read_edgelist(\"football_transfers_edge_list.txt\", create_using=nx.MultiDiGraph())\n",
    "\n",
    "\n",
    "print(\"Number of nodes:\", G.number_of_nodes())\n",
    "print(\"Number of edges:\", G.number_of_edges())\n"
   ]
  },
  {
   "cell_type": "markdown",
   "id": "771b3d6b",
   "metadata": {},
   "source": [
    "Convert to a simple Graph"
   ]
  },
  {
   "cell_type": "code",
   "execution_count": 11,
   "id": "d363c797",
   "metadata": {},
   "outputs": [
    {
     "name": "stdout",
     "output_type": "stream",
     "text": [
      "Average Clustering Coefficient: 0.20463378419883615\n",
      "Average Shortest Path Length: 3.4683653560918977\n"
     ]
    }
   ],
   "source": [
    "import networkx as nx\n",
    "import numpy as np\n",
    "\n",
    "# Assume G is your MultiDiGraph or DiGraph\n",
    "G_undirected = nx.Graph(G)\n",
    "\n",
    "# Average Clustering Coefficient\n",
    "C = nx.average_clustering(G_undirected)\n",
    "\n",
    "# Largest Connected Component for path length\n",
    "largest_cc = max(nx.connected_components(G_undirected), key=len)\n",
    "G_lcc = G_undirected.subgraph(largest_cc)\n",
    "d = nx.average_shortest_path_length(G_lcc)\n",
    "\n",
    "print(\"Average Clustering Coefficient:\", C)\n",
    "print(\"Average Shortest Path Length:\", d)\n"
   ]
  },
  {
   "cell_type": "markdown",
   "id": "a617a44c",
   "metadata": {},
   "source": [
    "ER Degree Distribution"
   ]
  },
  {
   "cell_type": "code",
   "execution_count": null,
   "id": "e0b621b0",
   "metadata": {},
   "outputs": [
    {
     "data": {
      "image/png": "[encoded data removed]",
      "text/plain": [
       "<Figure size 600x400 with 1 Axes>"
      ]
     },
     "metadata": {},
     "output_type": "display_data"
    }
   ],
   "source": [
    "# Function Defintions\n",
    "\n",
    "# Function to plot a degree distribution graph \n",
    "def plot_degree_dist(G):\n",
    "    \n",
    "    degrees = [G.degree(n) for n in G.nodes()]\n",
    "    kmin = min(degrees)\n",
    "    kmax = max(degrees)\n",
    "    \n",
    "    if kmin>0:\n",
    "        bin_edges = np.logspace(np.log10(kmin), np.log10(kmax)+1, num=20)\n",
    "    else:\n",
    "        bin_edges = np.logspace(0, np.log10(kmax)+1, num=20)\n",
    "    density, _ = np.histogram(degrees, bins=bin_edges, density=True)\n",
    "\n",
    "    fig = plt.figure(figsize=(6,4))\n",
    "\n",
    "    log_be = np.log10(bin_edges)\n",
    "    x = 10**((log_be[1:] + log_be[:-1])/2)\n",
    "    plt.loglog(x, density, marker='o', linestyle='none')\n",
    "    plt.xlabel(r\"degree $k$\", fontsize=16)\n",
    "    plt.ylabel(r\"$P(k)$\", fontsize=16)\n",
    "\n",
    "    ax = plt.gca()\n",
    "    ax.spines['right'].set_visible(False)\n",
    "    ax.spines['top'].set_visible(False)\n",
    "    ax.yaxis.set_ticks_position('left')\n",
    "    ax.xaxis.set_ticks_position('bottom')\n",
    "\n",
    "GN = len(G.nodes()) # G.number_of_nodes()\n",
    "max_L = GN*(GN-1)/2\n",
    "actual_L = len(G.edges())\n",
    "p = actual_L/max_L\n",
    "\n",
    "ER = nx.erdos_renyi_graph(GN, p, directed=False)\n",
    "\n",
    "plot_degree_dist(ER)\n"
   ]
  },
  {
   "cell_type": "code",
   "execution_count": null,
   "id": "18cfee4c",
   "metadata": {},
   "outputs": [
    {
     "name": "stdout",
     "output_type": "stream",
     "text": [
      "Clustering Coefficient - Mean:  0.007381286613261546\n",
      "Clustering Coefficient - Std:  0.00017267307155158657\n",
      "Average Shortest Path - Mean:  2.8579110020505203\n",
      "Average Shortest Path - Std:  0.002963032333190806\n"
     ]
    }
   ],
   "source": [
    "import networkx as nx\n",
    "import numpy as np\n",
    "\n",
    "# Initialize lists to store results\n",
    "clustering_ER = []\n",
    "short_path_ER = []\n",
    "\n",
    "\n",
    "for i in range(1000):  \n",
    "    \n",
    "    # Generate a random Erdos-Renyi graph\n",
    "    ER = nx.erdos_renyi_graph(GN, p, directed=False)\n",
    "    \n",
    "    # Calculate clustering coefficient\n",
    "    C_ER = np.mean(list(nx.clustering(ER).values()))\n",
    "    \n",
    "    # Check if the graph is connected to calculate the shortest path\n",
    "    if nx.is_connected(ER):\n",
    "        d_ER = nx.average_shortest_path_length(ER, weight=None)\n",
    "    else:\n",
    "        d_ER = None  \n",
    "    \n",
    "    # Store the results\n",
    "    clustering_ER.append(C_ER)\n",
    "    short_path_ER.append(d_ER)\n",
    "\n",
    "# Calculate mean and std for clustering coefficients and path lengths\n",
    "print(\"Clustering Coefficient - Mean: \", np.mean(clustering_ER))\n",
    "print(\"Clustering Coefficient - Std: \", np.std(clustering_ER))\n",
    "\n",
    "# Filter out None values (disconnected graphs) for shortest path lengths\n",
    "short_path_ER = [x for x in short_path_ER if x is not None]\n",
    "\n",
    "print(\"Average Shortest Path - Mean: \", np.mean(short_path_ER))\n",
    "print(\"Average Shortest Path - Std: \", np.std(short_path_ER))\n"
   ]
  },
  {
   "cell_type": "code",
   "execution_count": 17,
   "id": "81407a3b",
   "metadata": {},
   "outputs": [
    {
     "data": {
      "image/png": "[encoded data removed]",
      "text/plain": [
       "<Figure size 600x400 with 1 Axes>"
      ]
     },
     "metadata": {},
     "output_type": "display_data"
    }
   ],
   "source": [
    "fig = plt.figure(figsize=(6,4))\n",
    "\n",
    "plt.boxplot(clustering_ER)\n",
    "plt.plot(2,C,'r',marker='+',markersize=15)\n",
    "ax = plt.gca()\n",
    "ax.set_xticks([1,2],labels=['ER','Players'])\n",
    "plt.ylabel('Clustering')\n",
    "plt.xlim([0.5,2.5])\n",
    "plt.show()"
   ]
  },
  {
   "cell_type": "code",
   "execution_count": 18,
   "id": "798699ad",
   "metadata": {},
   "outputs": [
    {
     "data": {
      "image/png": "[encoded data removed]",
      "text/plain": [
       "<Figure size 600x400 with 1 Axes>"
      ]
     },
     "metadata": {},
     "output_type": "display_data"
    }
   ],
   "source": [
    "fig = plt.figure(figsize=(6,4))\n",
    "\n",
    "plt.boxplot(short_path_ER)\n",
    "plt.plot(2,d,'r',marker='+',markersize=15)\n",
    "ax = plt.gca()\n",
    "ax.set_xticks([1,2],labels=['ER','Players'])\n",
    "plt.ylabel('Average shortest path')\n",
    "plt.xlim([0.5,2.5])\n",
    "plt.show()"
   ]
  }
 ],
 "metadata": {
  "kernelspec": {
   "display_name": "Python 3",
   "language": "python",
   "name": "python3"
  },
  "language_info": {
   "codemirror_mode": {
    "name": "ipython",
    "version": 3
   },
   "file_extension": ".py",
   "mimetype": "text/x-python",
   "name": "python",
   "nbconvert_exporter": "python",
   "pygments_lexer": "ipython3",
   "version": "3.13.1"
  }
 },
 "nbformat": 4,
 "nbformat_minor": 5
}
