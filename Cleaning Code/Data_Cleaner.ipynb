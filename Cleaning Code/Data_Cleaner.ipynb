{
 "cells": [
  {
   "cell_type": "markdown",
   "metadata": {},
   "source": [
    "This File was created to fix the columns which had incorrect encoding"
   ]
  },
  {
   "cell_type": "code",
   "execution_count": 2,
   "metadata": {},
   "outputs": [
    {
     "name": "stdout",
     "output_type": "stream",
     "text": [
      "Requirement already satisfied: pandas in c:\\users\\zawad safwan\\appdata\\local\\programs\\python\\python313\\lib\\site-packages (2.2.3)\n",
      "Requirement already satisfied: openpyxl in c:\\users\\zawad safwan\\appdata\\local\\programs\\python\\python313\\lib\\site-packages (3.1.5)\n",
      "Collecting ftfy\n",
      "  Downloading ftfy-6.3.1-py3-none-any.whl.metadata (7.3 kB)\n",
      "Requirement already satisfied: numpy>=1.26.0 in c:\\users\\zawad safwan\\appdata\\local\\programs\\python\\python313\\lib\\site-packages (from pandas) (2.2.2)\n",
      "Requirement already satisfied: python-dateutil>=2.8.2 in c:\\users\\zawad safwan\\appdata\\local\\programs\\python\\python313\\lib\\site-packages (from pandas) (2.9.0.post0)\n",
      "Requirement already satisfied: pytz>=2020.1 in c:\\users\\zawad safwan\\appdata\\local\\programs\\python\\python313\\lib\\site-packages (from pandas) (2025.1)\n",
      "Requirement already satisfied: tzdata>=2022.7 in c:\\users\\zawad safwan\\appdata\\local\\programs\\python\\python313\\lib\\site-packages (from pandas) (2025.1)\n",
      "Requirement already satisfied: et-xmlfile in c:\\users\\zawad safwan\\appdata\\local\\programs\\python\\python313\\lib\\site-packages (from openpyxl) (2.0.0)\n",
      "Requirement already satisfied: wcwidth in c:\\users\\zawad safwan\\appdata\\local\\programs\\python\\python313\\lib\\site-packages (from ftfy) (0.2.13)\n",
      "Requirement already satisfied: six>=1.5 in c:\\users\\zawad safwan\\appdata\\local\\programs\\python\\python313\\lib\\site-packages (from python-dateutil>=2.8.2->pandas) (1.17.0)\n",
      "Downloading ftfy-6.3.1-py3-none-any.whl (44 kB)\n",
      "Installing collected packages: ftfy\n",
      "Successfully installed ftfy-6.3.1\n",
      "Note: you may need to restart the kernel to use updated packages.\n"
     ]
    },
    {
     "name": "stderr",
     "output_type": "stream",
     "text": [
      "\n",
      "[notice] A new release of pip is available: 24.3.1 -> 25.0.1\n",
      "[notice] To update, run: python.exe -m pip install --upgrade pip\n"
     ]
    }
   ],
   "source": [
    "pip install pandas openpyxl ftfy\n"
   ]
  },
  {
   "cell_type": "code",
   "execution_count": null,
   "metadata": {},
   "outputs": [
    {
     "name": "stderr",
     "output_type": "stream",
     "text": [
      "C:\\Users\\Zawad Safwan\\AppData\\Local\\Temp\\ipykernel_23976\\3573549486.py:8: FutureWarning: DataFrame.applymap has been deprecated. Use DataFrame.map instead.\n",
      "  df = df.applymap(lambda x: fix_text(str(x)) if isinstance(x, str) else x)\n"
     ]
    },
    {
     "name": "stdout",
     "output_type": "stream",
     "text": [
      "✅ Encoding issues fixed! Cleaned file saved as 'cleaned_file.xlsx'\n"
     ]
    }
   ],
   "source": [
    "import pandas as pd\n",
    "from ftfy import fix_text\n",
    "\n",
    "# Load the XLSX file\n",
    "df = pd.read_excel(\"Transfer-players-ToClubs.xlsx\", engine=\"openpyxl\")\n",
    "\n",
    "# Apply encoding fix to all columns\n",
    "df = df.applymap(lambda x: fix_text(str(x)) if isinstance(x, str) else x)\n",
    "\n",
    "# Save the cleaned file\n",
    "df.to_excel(\"cleaned_file.xlsx\", index=False, engine=\"openpyxl\")\n",
    "\n",
    "print(\"Encoding issues fixed! Cleaned file saved as 'cleaned_file.xlsx'\")\n"
   ]
  }
 ],
 "metadata": {
  "kernelspec": {
   "display_name": "Python 3",
   "language": "python",
   "name": "python3"
  },
  "language_info": {
   "codemirror_mode": {
    "name": "ipython",
    "version": 3
   },
   "file_extension": ".py",
   "mimetype": "text/x-python",
   "name": "python",
   "nbconvert_exporter": "python",
   "pygments_lexer": "ipython3",
   "version": "3.13.1"
  }
 },
 "nbformat": 4,
 "nbformat_minor": 2
}
